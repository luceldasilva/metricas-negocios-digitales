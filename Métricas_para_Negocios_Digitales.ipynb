{
  "nbformat": 4,
  "nbformat_minor": 0,
  "metadata": {
    "colab": {
      "provenance": [],
      "authorship_tag": "ABX9TyO4slOocr6UKzL97CD2Wu+d",
      "include_colab_link": true
    },
    "kernelspec": {
      "name": "python3",
      "display_name": "Python 3"
    },
    "language_info": {
      "name": "python"
    }
  },
  "cells": [
    {
      "cell_type": "markdown",
      "metadata": {
        "id": "view-in-github",
        "colab_type": "text"
      },
      "source": [
        "<a href=\"https://colab.research.google.com/github/luceldasilva/metricas-negocios-digitales/blob/main/M%C3%A9tricas_para_Negocios_Digitales.ipynb\" target=\"_parent\"><img src=\"https://colab.research.google.com/assets/colab-badge.svg\" alt=\"Open In Colab\"/></a>"
      ]
    },
    {
      "cell_type": "markdown",
      "source": [
        "[Este curso](https://platzi.com/cursos/metricas-negocios/) es parte de la ruta de Data Analyst"
      ],
      "metadata": {
        "id": "QJEPErrkugiP"
      }
    },
    {
      "cell_type": "markdown",
      "source": [
        "## Clase 2 - Funnel de conversión\n",
        "---"
      ],
      "metadata": {
        "id": "F0AI-x9CuHvk"
      }
    },
    {
      "cell_type": "markdown",
      "source": [
        "### Variables estudiadas\n",
        "\n",
        "* Inversión\n",
        "* Tráfico\n",
        "* Pedidos \n",
        "    * Total \n",
        "    * Nuevo usuario\n",
        "* Repetición & Ticket = x pedidos de y $ costo\n",
        "* Margen de ventas\n",
        "\n",
        "\n",
        "### Conceptos\n",
        "\n",
        "| Sigla | Concepto | Significado | Fórmula |\n",
        "|-----------|-----------|-----------|-----------|\n",
        "| **V** | Venta | lo que vendo :v pero real| Inversión / Margen de Venta actual|\n",
        "| **Vt** | Venta teórica | Lo que vendo si invierto todo | Inversión que quiero / Margen de Venta que deseo|\n",
        "| **P** | Pedido | Lo que gasta cada usuario | Venta / Ticket |\n",
        "| **CPC** | Coste por Click | Cuánto costó las vistas | Inversión/Tráfico |\n",
        "|  **CR** | Ratio de Conversión | Lo que convierto de lo que invertí | P/Tráfico * 100 |\n",
        "| **CPA** | Coste por acción | Cuánto cuestó la venta | Inversión/Pedidos |\n",
        "| **CAC** | Coste de Adquisión | Cuánto costó el nuevo usuario | Inversión/Nuevo cliente|\n",
        "| **ARPU** | Retorno por usuario | Lo que consigo por cada usuario | Pedidos * Tickets | \n",
        "| **LTV** | Lifetime Value | Valor que capturo por cada usuario en total | ARPU * Margen de venta |\n",
        "| **NLV** | Net LTV | Lo que gano por cliente | LTV - CAC |\n",
        "\n",
        "NLV+ es lo importante para ver si es rentable.   \n",
        "NLV- estoy perdiendo plata, me sale caro."
      ],
      "metadata": {
        "id": "uxMsuf9qu3Xw"
      }
    },
    {
      "cell_type": "markdown",
      "source": [
        "### Ejercicio"
      ],
      "metadata": {
        "id": "vPbIBmlt1dJH"
      }
    },
    {
      "cell_type": "code",
      "execution_count": 6,
      "metadata": {
        "id": "F7OfWIRLt_tS"
      },
      "outputs": [],
      "source": [
        "inversion_ej1 = 300000\n",
        "trafico_ej1 = 850000\n",
        "ticket_ej1 = 35\n",
        "margen_venta_ej1 = 70"
      ]
    },
    {
      "cell_type": "markdown",
      "source": [
        "Cuánto le está costando mensualmente el tráfico?"
      ],
      "metadata": {
        "id": "AyanP1AX2RlJ"
      }
    },
    {
      "cell_type": "code",
      "source": [
        "CPC = inversion_ej1 / trafico_ej1\n",
        "print(f'Le cuesta mensualmente ${CPC}')"
      ],
      "metadata": {
        "colab": {
          "base_uri": "https://localhost:8080/"
        },
        "id": "6vg2dTz02LUG",
        "outputId": "fc766634-e1ec-4530-dff1-6518179b0c9d"
      },
      "execution_count": 8,
      "outputs": [
        {
          "output_type": "stream",
          "name": "stdout",
          "text": [
            "Le cuesta mensualmente $0.35294117647058826\n"
          ]
        }
      ]
    },
    {
      "cell_type": "markdown",
      "source": [
        "¿Qué ratio de conversión ***necesita***\n",
        "para compensar la inv. en mkt?"
      ],
      "metadata": {
        "id": "WbYxZ-3Q3VyR"
      }
    },
    {
      "cell_type": "markdown",
      "source": [
        "Necesita = Hacer el margen de venta   \n",
        "Compensar = usar toda la inversión :v   \n",
        "Buscar pedido"
      ],
      "metadata": {
        "id": "_YFRpuTP3tqA"
      }
    },
    {
      "cell_type": "code",
      "source": [
        "# Ventas \n",
        "V_ej1 = inversion_ej1 / (margen_venta_ej1/100)\n",
        "# Pedidos que tengo\n",
        "P_ej1 = V_ej1 / ticket_ej1\n",
        "CR_ej1 = 100 * P_ej1 / trafico_ej1\n",
        "print(f'El ratio de conversión es {CR_ej1}%')"
      ],
      "metadata": {
        "colab": {
          "base_uri": "https://localhost:8080/"
        },
        "id": "dqToLB6M2PuX",
        "outputId": "5abf9fcc-b6bf-4cf7-fd7c-78a763ca326b"
      },
      "execution_count": 12,
      "outputs": [
        {
          "output_type": "stream",
          "name": "stdout",
          "text": [
            "El ratio de conversión es 1.440576230492197%\n"
          ]
        }
      ]
    },
    {
      "cell_type": "markdown",
      "source": [
        "¿Cuántos pedidos tiene que\n",
        "vender al día para compensar la\n",
        "inversión en marketing?"
      ],
      "metadata": {
        "id": "t-54bzvP3YDf"
      }
    },
    {
      "cell_type": "code",
      "source": [
        "## un mes = 30 días\n",
        "P_day_ej1= P_ej1 / 30\n",
        "P_day_ej1"
      ],
      "metadata": {
        "colab": {
          "base_uri": "https://localhost:8080/"
        },
        "id": "M5ILjezX3YeM",
        "outputId": "1610da39-75f6-47b3-d45d-98861f6ed0c0"
      },
      "execution_count": 13,
      "outputs": [
        {
          "output_type": "execute_result",
          "data": {
            "text/plain": [
              "408.16326530612247"
            ]
          },
          "metadata": {},
          "execution_count": 13
        }
      ]
    },
    {
      "cell_type": "markdown",
      "source": [
        "## Clase 3 - Lifetime Value\n",
        "---"
      ],
      "metadata": {
        "id": "ggE-Xh3n82Kv"
      }
    },
    {
      "cell_type": "markdown",
      "source": [
        "Valor que capturo por cada usuario en total\t\n",
        "ARPU * Margen de venta\n",
        "Si despejamos ARPU queda   \n",
        "Pedidos * Tickets * Margen de venta\n",
        "\n",
        "Está formado por dos variable:\n",
        "\n",
        "Tiempo\n",
        "Ciclo de vida del usuario en el negocio y la frecuencia (cada cuanto tiempo el usuario compra)\n",
        "Dinero:\n",
        "Dinero: Modelos de negocio, ticket medio / ARPU / Margen\n",
        "\n",
        "| Fases | Pregunta | Medición |\n",
        "| ---- | ---- | ----- |\n",
        "| **Duración** | Por cuantos periodos mantengo a mis clientes? | 4 periodos de semanas/meses/años |\n",
        "| **Frecuencia** | Cada cuando tiempo consumen mis clientes/usuarios? |  trimestralmente, bimensualmente |\n",
        "\n",
        "### Conceptos\n",
        "* **Churn**: Taza de abandono en un periodo (meses, semanas, años)\n",
        "\n",
        "* **LT - lifetime**: El tiempo que el cliente me sigue comprando\n",
        "  Podemos decir que es el opuesto de Churn :v   \n",
        "  LT = 1 / churn "
      ],
      "metadata": {
        "id": "0OCTUr179CIY"
      }
    },
    {
      "cell_type": "code",
      "source": [],
      "metadata": {
        "id": "3RA8b6dv8y0t"
      },
      "execution_count": null,
      "outputs": []
    },
    {
      "cell_type": "code",
      "source": [],
      "metadata": {
        "id": "q0hzO_Vc8GCc"
      },
      "execution_count": null,
      "outputs": []
    }
  ]
}