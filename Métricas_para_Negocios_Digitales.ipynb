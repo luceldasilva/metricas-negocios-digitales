{
  "nbformat": 4,
  "nbformat_minor": 0,
  "metadata": {
    "colab": {
      "provenance": [],
      "authorship_tag": "ABX9TyPDAjSoaIat2WHaC+3ROXKf",
      "include_colab_link": true
    },
    "kernelspec": {
      "name": "python3",
      "display_name": "Python 3"
    },
    "language_info": {
      "name": "python"
    }
  },
  "cells": [
    {
      "cell_type": "markdown",
      "metadata": {
        "id": "view-in-github",
        "colab_type": "text"
      },
      "source": [
        "<a href=\"https://colab.research.google.com/github/luceldasilva/metricas-negocios-digitales/blob/main/M%C3%A9tricas_para_Negocios_Digitales.ipynb\" target=\"_parent\"><img src=\"https://colab.research.google.com/assets/colab-badge.svg\" alt=\"Open In Colab\"/></a>"
      ]
    },
    {
      "cell_type": "markdown",
      "source": [
        "[Este curso](https://platzi.com/cursos/metricas-negocios/) es parte de la ruta de Data Analyst"
      ],
      "metadata": {
        "id": "QJEPErrkugiP"
      }
    },
    {
      "cell_type": "markdown",
      "source": [
        "## Clase 2 - Funnel de conversión\n",
        "---"
      ],
      "metadata": {
        "id": "F0AI-x9CuHvk"
      }
    },
    {
      "cell_type": "markdown",
      "source": [
        "### Variables estudiadas\n",
        "\n",
        "* Inversión\n",
        "* Tráfico\n",
        "* Pedidos \n",
        "    * Total \n",
        "    * Nuevo usuario\n",
        "* Repetición & Ticket   \n",
        "  * x pedidos de y $ costo\n",
        "* Margen de ventas   \n",
        "  * presenta % manejar fórmula en centesimales\n",
        "\n",
        "\n",
        "### Conceptos\n",
        "\n",
        "| Sigla | Concepto | Significado | Fórmula |\n",
        "|-----------|-----------|-----------|-----------|\n",
        "| **T** | Ticket | lo que gastó el usuario con su pedido | x pedido de Y costo | \n",
        "| **V** | Venta | lo que vendo :v pero real| Inversión / Margen de Venta actual|\n",
        "| **Vt** | Venta teórica | Lo que vendo si invierto todo | Inversión que quiero / Margen de Venta que deseo|\n",
        "| **P** | Pedido | es el usuario | Venta / ARPU |\n",
        "| **CPC** | Coste por Click | Cuánto costó las vistas | Inversión / Tráfico |\n",
        "|  **CR** | Ratio de Conversión | Lo que convierto de lo que invertí | P  / Tráfico * 100 |\n",
        "| **CPA** | Coste por acción | Cuánto me costó la venta | Inversión / Ticket |\n",
        "| **CAC** | Coste de Adquisión | Cuánto me costó el usuario | Inversión / Pedidos |\n",
        "| **ARPU** | Retorno por usuario | Lo que consigo por cada usuario, se llama también Ticket Medio | x * y sacado de Ticket | \n",
        "| **LTV** | Lifetime Value | Valor que capturo por cada usuario en total | ARPU * Margen de venta |\n",
        "| **NLV** | Net LTV | Lo que gano por cliente | LTV - CAC |\n",
        "| **MPO** | Margen absoluto | castellano de Lifetime Value :v | es el **LTV** |\n",
        "\n",
        "NLV+ es lo importante para ver si es rentable.   \n",
        "NLV- estoy perdiendo plata, me sale caro."
      ],
      "metadata": {
        "id": "uxMsuf9qu3Xw"
      }
    },
    {
      "cell_type": "markdown",
      "source": [
        "### Ejercicio 1"
      ],
      "metadata": {
        "id": "vPbIBmlt1dJH"
      }
    },
    {
      "cell_type": "code",
      "execution_count": 1,
      "metadata": {
        "id": "F7OfWIRLt_tS"
      },
      "outputs": [],
      "source": [
        "inversion_ej1 = 300000\n",
        "trafico_ej1 = 850000\n",
        "ticket_ej1 = 35\n",
        "margen_venta_ej1 = 70"
      ]
    },
    {
      "cell_type": "markdown",
      "source": [
        "Cuánto le está costando mensualmente el tráfico?"
      ],
      "metadata": {
        "id": "AyanP1AX2RlJ"
      }
    },
    {
      "cell_type": "code",
      "source": [
        "CPC = inversion_ej1 / trafico_ej1\n",
        "print(f'Le cuesta mensualmente ${CPC}')"
      ],
      "metadata": {
        "colab": {
          "base_uri": "https://localhost:8080/"
        },
        "id": "6vg2dTz02LUG",
        "outputId": "da658cd6-8153-462a-c2da-f4ad345c648b"
      },
      "execution_count": 2,
      "outputs": [
        {
          "output_type": "stream",
          "name": "stdout",
          "text": [
            "Le cuesta mensualmente $0.35294117647058826\n"
          ]
        }
      ]
    },
    {
      "cell_type": "markdown",
      "source": [
        "¿Qué ratio de conversión ***necesita***\n",
        "para compensar la inv. en mkt?"
      ],
      "metadata": {
        "id": "WbYxZ-3Q3VyR"
      }
    },
    {
      "cell_type": "markdown",
      "source": [
        "Necesita = Hacer el margen de venta   \n",
        "Compensar = usar toda la inversión :v   \n",
        "Buscar pedido"
      ],
      "metadata": {
        "id": "_YFRpuTP3tqA"
      }
    },
    {
      "cell_type": "code",
      "source": [
        "# Ventas \n",
        "V_ej1 = inversion_ej1 / (margen_venta_ej1/100)\n",
        "# Pedidos que tengo\n",
        "P_ej1 = V_ej1 / ticket_ej1\n",
        "CR_ej1 = 100 * P_ej1 / trafico_ej1\n",
        "print(f'El ratio de conversión es {CR_ej1}%')"
      ],
      "metadata": {
        "colab": {
          "base_uri": "https://localhost:8080/"
        },
        "id": "dqToLB6M2PuX",
        "outputId": "400c4dfe-cd62-4805-890b-e3167eb7da46"
      },
      "execution_count": 3,
      "outputs": [
        {
          "output_type": "stream",
          "name": "stdout",
          "text": [
            "El ratio de conversión es 1.440576230492197%\n"
          ]
        }
      ]
    },
    {
      "cell_type": "markdown",
      "source": [
        "¿Cuántos pedidos tiene que\n",
        "vender al día para compensar la\n",
        "inversión en marketing?"
      ],
      "metadata": {
        "id": "t-54bzvP3YDf"
      }
    },
    {
      "cell_type": "code",
      "source": [
        "## un mes = 30 días\n",
        "P_day_ej1= P_ej1 / 30\n",
        "int(P_day_ej1)"
      ],
      "metadata": {
        "colab": {
          "base_uri": "https://localhost:8080/"
        },
        "id": "M5ILjezX3YeM",
        "outputId": "b3c65606-2551-4e21-c43c-f32b33a555f1"
      },
      "execution_count": 4,
      "outputs": [
        {
          "output_type": "execute_result",
          "data": {
            "text/plain": [
              "408"
            ]
          },
          "metadata": {},
          "execution_count": 4
        }
      ]
    },
    {
      "cell_type": "markdown",
      "source": [
        "## Clase 3 - Lifetime Value\n",
        "---"
      ],
      "metadata": {
        "id": "ggE-Xh3n82Kv"
      }
    },
    {
      "cell_type": "markdown",
      "source": [
        "Valor que capturo por cada usuario en total\t\n",
        "ARPU * Margen de venta\n",
        "Si despejamos ARPU queda   \n",
        "Pedidos * Tickets * Margen de venta\n",
        "\n",
        "Está formado por dos variable:\n",
        "\n",
        "Tiempo\n",
        "Ciclo de vida del usuario en el negocio y la frecuencia (cada cuanto tiempo el usuario compra)\n",
        "Dinero:\n",
        "Dinero: Modelos de negocio, ticket medio / ARPU / Margen\n",
        "\n",
        "| Fases | Pregunta | Medición |\n",
        "| ---- | ---- | ----- |\n",
        "| **Duración** | Por cuantos periodos mantengo a mis clientes? | 4 periodos de semanas/meses/años |\n",
        "| **Frecuencia** | Cada cuando tiempo consumen mis clientes/usuarios? |  trimestralmente, bimensualmente |\n",
        "\n",
        "### Conceptos\n",
        "* **Churn**: Taza de abandono en un periodo (meses, semanas, años)\n",
        "\n",
        "* **LT - lifetime**: El tiempo que el cliente me sigue comprando   \n",
        "Podemos decir que es el recíproco de Churn :v   \n",
        "  LT = 1 / churn "
      ],
      "metadata": {
        "id": "0OCTUr179CIY"
      }
    },
    {
      "cell_type": "markdown",
      "source": [
        "### Ejercicio 2\n",
        "Cálculo de LTV o valor anual"
      ],
      "metadata": {
        "id": "QfVr2E5HGjAX"
      }
    },
    {
      "cell_type": "code",
      "source": [
        "# Ecommerce\n",
        "e_pedido = 2\n",
        "e_ticket = 35\n",
        "e_margen = 0.7\n",
        "\n",
        "# Marketplacet\n",
        "m_pedido = 24\n",
        "m_ticket = 75\n",
        "m_margen = 0.2\n",
        "\n",
        "# Suscripcion\n",
        "s_churn = 0.2\n",
        "s_mes_cuota = 9.9\n",
        "s_margen = 0.95"
      ],
      "metadata": {
        "id": "3RA8b6dv8y0t"
      },
      "execution_count": 5,
      "outputs": []
    },
    {
      "cell_type": "code",
      "source": [
        "ecommerce = e_pedido * e_ticket * e_margen\n",
        "print(f' LTV = {int(ecommerce)}')\n"
      ],
      "metadata": {
        "id": "q0hzO_Vc8GCc",
        "colab": {
          "base_uri": "https://localhost:8080/"
        },
        "outputId": "6dcb0314-0a2e-4c21-f4b5-c5b7dc9473a3"
      },
      "execution_count": 6,
      "outputs": [
        {
          "output_type": "stream",
          "name": "stdout",
          "text": [
            " LTV = 49\n"
          ]
        }
      ]
    },
    {
      "cell_type": "code",
      "source": [
        "marketplace = m_pedido * m_ticket * m_margen\n",
        "print(f' LTV = {int(marketplace)}')"
      ],
      "metadata": {
        "colab": {
          "base_uri": "https://localhost:8080/"
        },
        "id": "hOXTu6zBIk1r",
        "outputId": "735c53a5-7118-4bea-cc1f-2a58dfe871a4"
      },
      "execution_count": 7,
      "outputs": [
        {
          "output_type": "stream",
          "name": "stdout",
          "text": [
            " LTV = 360\n"
          ]
        }
      ]
    },
    {
      "cell_type": "code",
      "source": [
        "# Agregar al fórmula el lifetime en suscripción\n",
        "s_lt = 1/s_churn # el lifetime será mi ticket\n",
        "s_pedido = s_mes_cuota * 12 # para que se tenga el anual\n",
        "suscripcion = s_pedido * s_lt * s_margen\n",
        "print(f' LTV = {int(suscripcion)}')"
      ],
      "metadata": {
        "colab": {
          "base_uri": "https://localhost:8080/"
        },
        "id": "tBTTmyjmI_ai",
        "outputId": "d9cee9b3-c1d3-437d-99a5-f26c3cea6052"
      },
      "execution_count": 8,
      "outputs": [
        {
          "output_type": "stream",
          "name": "stdout",
          "text": [
            " LTV = 564\n"
          ]
        }
      ]
    },
    {
      "cell_type": "markdown",
      "source": [
        "## Clase 4 - \tCoste de Adquisión\n",
        "---"
      ],
      "metadata": {
        "id": "mR7yspwkMRiy"
      }
    },
    {
      "cell_type": "markdown",
      "source": [
        "### Factores que lo determinan\n",
        "* Gestión Publicitaria   \n",
        "  * CTR = Click / impresiones\n",
        "    * Interés del consumidor\n",
        "    * Seleccionar audiencias\n",
        "    * Calidad en los mensajes \n",
        "    * Seleccionar canales y formatos\n",
        "    * Notoriedad y engagement de marca\n",
        "* Saturación de Canales\n",
        "  * CPC = Coste por Click\n",
        "* Experiencia del usuario\n",
        "  * CR = Ratio de Conversión\n",
        "    * Depende del producto"
      ],
      "metadata": {
        "id": "u5i7J702Mlja"
      }
    },
    {
      "cell_type": "markdown",
      "source": [
        "**Promociones**\n",
        "* Aumenta conversión\n",
        "* Acosta del margen disminuye"
      ],
      "metadata": {
        "id": "u4Iy3tTuN16D"
      }
    },
    {
      "cell_type": "markdown",
      "source": [
        "### Ejercicio 3\n",
        "Calcular CAC"
      ],
      "metadata": {
        "id": "-bVXS4elOzgs"
      }
    },
    {
      "cell_type": "code",
      "source": [
        "# CAC\tCoste de Adquisión Cuánto me costó el usuario\tInversión / Pedidos\n",
        "# Pedidos = Clientes Nuevos\n",
        "bus_inversion = 3000\n",
        "bf_inversion = bus_inversion\n",
        "bus_pedido = 60\n",
        "bf_pedido = 90\n",
        "\n",
        "cac_bus = bus_inversion / bus_pedido\n",
        "cac_bf = bf_inversion / bf_pedido\n",
        "\n",
        "print(int(cac_bus), int(cac_bf))\n"
      ],
      "metadata": {
        "colab": {
          "base_uri": "https://localhost:8080/"
        },
        "id": "qGKx8ES3JvOb",
        "outputId": "d63207d1-394c-4daf-806c-d3466034ab60"
      },
      "execution_count": 9,
      "outputs": [
        {
          "output_type": "stream",
          "name": "stdout",
          "text": [
            "50 33\n"
          ]
        }
      ]
    },
    {
      "cell_type": "markdown",
      "source": [
        "Calcular NLV+"
      ],
      "metadata": {
        "id": "8OhW2MMffzqR"
      }
    },
    {
      "cell_type": "code",
      "source": [
        "nlv_bus = (cac_bus * 0.7) - cac_bus\n",
        "nlv_bus"
      ],
      "metadata": {
        "colab": {
          "base_uri": "https://localhost:8080/"
        },
        "id": "Pvg1EyxTQO8F",
        "outputId": "1f479601-e20a-4796-ec57-49378537e8e7"
      },
      "execution_count": 10,
      "outputs": [
        {
          "output_type": "execute_result",
          "data": {
            "text/plain": [
              "-15.0"
            ]
          },
          "metadata": {},
          "execution_count": 10
        }
      ]
    },
    {
      "cell_type": "code",
      "source": [
        "## cuando margen es si consigo el nlv del BF es 0 :v\n",
        "nlv_bf = cac_bf\n",
        "nl_bus_2 = (cac_bf * 0.7) - cac_bf\n",
        "nl_bus_2\n",
        "# hasta me quedé porque no entendí aun xD"
      ],
      "metadata": {
        "colab": {
          "base_uri": "https://localhost:8080/"
        },
        "id": "hAJl3zIhzDk9",
        "outputId": "7ce85e51-4ed3-4c13-a70e-09b197951c95"
      },
      "execution_count": 11,
      "outputs": [
        {
          "output_type": "execute_result",
          "data": {
            "text/plain": [
              "-10.000000000000004"
            ]
          },
          "metadata": {},
          "execution_count": 11
        }
      ]
    },
    {
      "cell_type": "markdown",
      "source": [
        "## Clase 5 - Unit economics\n",
        "---"
      ],
      "metadata": {
        "id": "OJt02i802D00"
      }
    },
    {
      "cell_type": "markdown",
      "source": [
        "### Conceptos\n",
        "* **Payback**\n",
        "  * Tiempo necesario para recuperar la inversión\n",
        "  * Cuando se igualan el NLV de cada frecuencia y la inversión de cada frecuencia\n",
        "  * La diferencia de todo lo acumulado  es mi inversión inicial\n",
        "  * Pasado el Payback tendré LTV+"
      ],
      "metadata": {
        "id": "Bf5Aob6H4AJU"
      }
    },
    {
      "cell_type": "markdown",
      "source": [
        "### Ejercicio 4"
      ],
      "metadata": {
        "id": "KxGDrW0f7Wxh"
      }
    },
    {
      "cell_type": "code",
      "source": [
        "\n",
        "# CAC\t= Inversión / Pedidos\n",
        "# Recurrencia = Ticket\n",
        "apru_4 = 75\n",
        "recurrencia_4 = 1.5 # al mes\n",
        "cac_4 = 60\n",
        "margen_4 = 0.2"
      ],
      "metadata": {
        "id": "tUzoLPU51b_l"
      },
      "execution_count": 12,
      "outputs": []
    },
    {
      "cell_type": "code",
      "source": [
        "# Mínimo de pedidos para recuperar mi inversión inicial\n",
        "ltv_4 = apru_4 * margen_4 #por pedido\n",
        "pedido_total_4 = cac_4 / ltv_4\n",
        "int(pedido_total_4)"
      ],
      "metadata": {
        "colab": {
          "base_uri": "https://localhost:8080/"
        },
        "id": "dR3srGeq8zGW",
        "outputId": "91e89df9-ba15-400b-8c13-dbc7f2afa7ec"
      },
      "execution_count": 13,
      "outputs": [
        {
          "output_type": "execute_result",
          "data": {
            "text/plain": [
              "4"
            ]
          },
          "metadata": {},
          "execution_count": 13
        }
      ]
    },
    {
      "cell_type": "code",
      "source": [
        "# Payback en meses\n",
        "payback_4 = pedido_total_4 / recurrencia_4\n",
        "payback_4"
      ],
      "metadata": {
        "colab": {
          "base_uri": "https://localhost:8080/"
        },
        "id": "oKVFcEVY9HFO",
        "outputId": "833f36db-da92-4e78-bb59-cd3c5ad76619"
      },
      "execution_count": 14,
      "outputs": [
        {
          "output_type": "execute_result",
          "data": {
            "text/plain": [
              "2.6666666666666665"
            ]
          },
          "metadata": {},
          "execution_count": 14
        }
      ]
    },
    {
      "cell_type": "code",
      "source": [
        "# LTV neto si tiene lifetime de 2 años\n",
        "# LTV neto = NLV\n",
        "LTV_4_2anos =  ltv_4 * recurrencia_4 * 24\n",
        "LTV_4_2anos"
      ],
      "metadata": {
        "colab": {
          "base_uri": "https://localhost:8080/"
        },
        "id": "rFy6LN3t_Wqg",
        "outputId": "1250d0b2-6947-4a2e-a03d-3734183bdeac"
      },
      "execution_count": 15,
      "outputs": [
        {
          "output_type": "execute_result",
          "data": {
            "text/plain": [
              "540.0"
            ]
          },
          "metadata": {},
          "execution_count": 15
        }
      ]
    },
    {
      "cell_type": "code",
      "source": [
        "NLV_4 = LTV_4_2anos - cac_4\n",
        "NLV_4"
      ],
      "metadata": {
        "colab": {
          "base_uri": "https://localhost:8080/"
        },
        "id": "7XWWbT6CCcbm",
        "outputId": "58c6b68a-2bb9-4b94-9ea7-ba77c4ff64ed"
      },
      "execution_count": 16,
      "outputs": [
        {
          "output_type": "execute_result",
          "data": {
            "text/plain": [
              "480.0"
            ]
          },
          "metadata": {},
          "execution_count": 16
        }
      ]
    },
    {
      "cell_type": "markdown",
      "source": [
        "## Clase 6 - EBITDA vs Unit economics\n",
        "---"
      ],
      "metadata": {
        "id": "OZxUA8QuC9-A"
      }
    },
    {
      "cell_type": "markdown",
      "source": [
        "***Cómo comparar***\n",
        "* Sacar frecuencias del NLV\n",
        "  * LTV / lifetime\n",
        "* Definir costes fijos en frecuencias"
      ],
      "metadata": {
        "id": "5f1bG0XLEDNT"
      }
    },
    {
      "cell_type": "markdown",
      "source": [
        "### Ejercicio 5"
      ],
      "metadata": {
        "id": "4EDQkoplF_M1"
      }
    },
    {
      "cell_type": "code",
      "source": [
        "cantidad = 5000\n",
        "porcentaje = 0.1\n",
        "mes = 0\n",
        "while cantidad >= 1500:\n",
        "  resta = 500\n",
        "  mes += 1\n",
        "  cantidad -= resta\n",
        "  print(cantidad, mes)"
      ],
      "metadata": {
        "colab": {
          "base_uri": "https://localhost:8080/"
        },
        "id": "45T_ZObBCdRJ",
        "outputId": "b3ebd58a-8b2d-4963-8176-97e5fcfe5fc1"
      },
      "execution_count": 17,
      "outputs": [
        {
          "output_type": "stream",
          "name": "stdout",
          "text": [
            "4500 1\n",
            "4000 2\n",
            "3500 3\n",
            "3000 4\n",
            "2500 5\n",
            "2000 6\n",
            "1500 7\n",
            "1000 8\n"
          ]
        }
      ]
    },
    {
      "cell_type": "code",
      "source": [
        "cantidad = 5000\n",
        "porcentaje = 0.05\n",
        "mes = 0\n",
        "while cantidad >= 2000:\n",
        "  resta = 250\n",
        "  mes += 1\n",
        "  cantidad -= resta\n",
        "  print(cantidad, mes)"
      ],
      "metadata": {
        "id": "XJUOkPE-Gp5W",
        "colab": {
          "base_uri": "https://localhost:8080/"
        },
        "outputId": "e6530b5a-6d94-4688-a03a-01c1e6968aa2"
      },
      "execution_count": 18,
      "outputs": [
        {
          "output_type": "stream",
          "name": "stdout",
          "text": [
            "4750 1\n",
            "4500 2\n",
            "4250 3\n",
            "4000 4\n",
            "3750 5\n",
            "3500 6\n",
            "3250 7\n",
            "3000 8\n",
            "2750 9\n",
            "2500 10\n",
            "2250 11\n",
            "2000 12\n",
            "1750 13\n"
          ]
        }
      ]
    },
    {
      "cell_type": "code",
      "source": [
        "cac = 85\n",
        "pedido = 18/12\n",
        "apru = 50 \n",
        "margen = 0.4"
      ],
      "metadata": {
        "id": "lIWjcL3_gj74"
      },
      "execution_count": 19,
      "outputs": []
    },
    {
      "cell_type": "code",
      "source": [
        "ltv = apru * margen #por pedido\n",
        "pedido_total = cac / ltv\n",
        "pedido_total"
      ],
      "metadata": {
        "colab": {
          "base_uri": "https://localhost:8080/"
        },
        "id": "6EYaWmYPhVAf",
        "outputId": "02df23c2-be6d-4db7-a2c6-8fcdcf0d32cc"
      },
      "execution_count": 20,
      "outputs": [
        {
          "output_type": "execute_result",
          "data": {
            "text/plain": [
              "4.25"
            ]
          },
          "metadata": {},
          "execution_count": 20
        }
      ]
    },
    {
      "cell_type": "code",
      "source": [
        "payback = pedido_total / pedido\n",
        "payback"
      ],
      "metadata": {
        "colab": {
          "base_uri": "https://localhost:8080/"
        },
        "id": "z5puFIWShk3j",
        "outputId": "5ceee7f2-3b93-49e6-99a4-3d3e27b13a6d"
      },
      "execution_count": 21,
      "outputs": [
        {
          "output_type": "execute_result",
          "data": {
            "text/plain": [
              "2.8333333333333335"
            ]
          },
          "metadata": {},
          "execution_count": 21
        }
      ]
    },
    {
      "cell_type": "code",
      "source": [
        "# LTV\tLifetime Value = ARPU * Margen de venta\n",
        "# ARPU = Ticket Promedio\n",
        "LTV_e = int(ltv)\n",
        "print(LTV_e)\n"
      ],
      "metadata": {
        "id": "awQnKIZPjQ2X",
        "colab": {
          "base_uri": "https://localhost:8080/"
        },
        "outputId": "dabd6604-4c7e-419f-ab25-e72b6ffb99ba"
      },
      "execution_count": 22,
      "outputs": [
        {
          "output_type": "stream",
          "name": "stdout",
          "text": [
            "20\n"
          ]
        }
      ]
    }
  ]
}